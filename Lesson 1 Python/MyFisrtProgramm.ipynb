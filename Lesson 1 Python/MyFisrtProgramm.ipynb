{
  "nbformat": 4,
  "nbformat_minor": 0,
  "metadata": {
    "kernelspec": {
      "display_name": "Python 3",
      "language": "python",
      "name": "python3"
    },
    "language_info": {
      "codemirror_mode": {
        "name": "ipython",
        "version": 3
      },
      "file_extension": ".py",
      "mimetype": "text/x-python",
      "name": "python",
      "nbconvert_exporter": "python",
      "pygments_lexer": "ipython3",
      "version": "3.7.3"
    },
    "colab": {
      "provenance": []
    }
  },
  "cells": [
    {
      "cell_type": "markdown",
      "metadata": {
        "id": "-x48FaE-7Les"
      },
      "source": [
        "# Упражнения, чтобы проверить и улучшить свои знания по программированию на Python\n",
        "## *Просьба скачать этот файл себе на компьютер и работать с ним там.*\n",
        "Ниже представлено 54 упражнения, представляющих собой код с пропущенными фрагментами, которые надо воспроизвести. Часть из этих упражнений очень простые, над некоторыми надо хорошенько подумать.\n",
        "\n",
        "Удачи в их выполнении!"
      ]
    },
    {
      "cell_type": "markdown",
      "metadata": {
        "id": "YziiWdKD7Lew"
      },
      "source": [
        "## Упражнение 1\n",
        "Допишите пропущенную часть кода, чтобы вывести на экран фразу \"Hello world\"."
      ]
    },
    {
      "cell_type": "code",
      "metadata": {
        "id": "bc4YRAZE7Lex",
        "colab": {
          "base_uri": "https://localhost:8080/",
          "height": 130
        },
        "outputId": "483a3ac0-1d9f-4f1f-f658-4fa4a860239f"
      },
      "source": [
        "print(\"Hello"
      ],
      "execution_count": null,
      "outputs": [
        {
          "output_type": "error",
          "ename": "SyntaxError",
          "evalue": "ignored",
          "traceback": [
            "\u001b[0;36m  File \u001b[0;32m\"<ipython-input-1-4de7993efdcd>\"\u001b[0;36m, line \u001b[0;32m1\u001b[0m\n\u001b[0;31m    print(\"Hello\u001b[0m\n\u001b[0m                ^\u001b[0m\n\u001b[0;31mSyntaxError\u001b[0m\u001b[0;31m:\u001b[0m EOL while scanning string literal\n"
          ]
        }
      ]
    },
    {
      "cell_type": "markdown",
      "metadata": {
        "id": "yqDTDKAf7Le4"
      },
      "source": [
        "## Упражнение 2\n",
        "С помощью отступов исправьте программу, чтобы выводилось сообщение"
      ]
    },
    {
      "cell_type": "code",
      "metadata": {
        "id": "6rJM9AWf7Le5",
        "colab": {
          "base_uri": "https://localhost:8080/",
          "height": 130
        },
        "outputId": "05460fbb-e9e9-41e2-af61-813b22cc8a64"
      },
      "source": [
        "if 5 > 2:\n",
        "print(\"Пять больше двух!\")"
      ],
      "execution_count": null,
      "outputs": [
        {
          "output_type": "error",
          "ename": "IndentationError",
          "evalue": "ignored",
          "traceback": [
            "\u001b[0;36m  File \u001b[0;32m\"<ipython-input-2-86f549ea51c7>\"\u001b[0;36m, line \u001b[0;32m2\u001b[0m\n\u001b[0;31m    print(\"Пять больше двух!\")\u001b[0m\n\u001b[0m        ^\u001b[0m\n\u001b[0;31mIndentationError\u001b[0m\u001b[0;31m:\u001b[0m expected an indented block\n"
          ]
        }
      ]
    },
    {
      "cell_type": "markdown",
      "metadata": {
        "id": "I0pQEJWd7Le8"
      },
      "source": [
        "## Упражнение 3\n",
        "Для записи комментариев в Python используется специальный символ. Превратите строку следующей ячейки в комментарий."
      ]
    },
    {
      "cell_type": "code",
      "metadata": {
        "id": "Rcw160MV7Le9",
        "colab": {
          "base_uri": "https://localhost:8080/",
          "height": 130
        },
        "outputId": "eecb0b6b-fa64-432d-9e07-318686171eb6"
      },
      "source": [
        "Это комментарий, а не код"
      ],
      "execution_count": null,
      "outputs": [
        {
          "output_type": "error",
          "ename": "SyntaxError",
          "evalue": "ignored",
          "traceback": [
            "\u001b[0;36m  File \u001b[0;32m\"<ipython-input-2-4ff8eb2d6f80>\"\u001b[0;36m, line \u001b[0;32m1\u001b[0m\n\u001b[0;31m    Это комментарий, а не код\u001b[0m\n\u001b[0m                  ^\u001b[0m\n\u001b[0;31mSyntaxError\u001b[0m\u001b[0;31m:\u001b[0m invalid syntax\n"
          ]
        }
      ]
    },
    {
      "cell_type": "markdown",
      "metadata": {
        "id": "wAH-m8577LfA"
      },
      "source": [
        "## Упражнение 4\n",
        "Помимо однострочных комментариев в Python можно делать и пногострочные. Прератите текст в ячейке ниже в многострочный комментарий."
      ]
    },
    {
      "cell_type": "code",
      "metadata": {
        "id": "2HrHErMq7LfB",
        "colab": {
          "base_uri": "https://localhost:8080/",
          "height": 130
        },
        "outputId": "3b77f7c6-0d63-4eee-d9e5-ac95dec931f5"
      },
      "source": [
        "Это комментарий, записанный\n",
        "в более чем одну строку"
      ],
      "execution_count": null,
      "outputs": [
        {
          "output_type": "error",
          "ename": "SyntaxError",
          "evalue": "ignored",
          "traceback": [
            "\u001b[0;36m  File \u001b[0;32m\"<ipython-input-3-5d474ed41d20>\"\u001b[0;36m, line \u001b[0;32m1\u001b[0m\n\u001b[0;31m    Это комментарий, записанный\u001b[0m\n\u001b[0m                  ^\u001b[0m\n\u001b[0;31mSyntaxError\u001b[0m\u001b[0;31m:\u001b[0m invalid syntax\n"
          ]
        }
      ]
    },
    {
      "cell_type": "markdown",
      "metadata": {
        "id": "Ink3u9yR7LfE"
      },
      "source": [
        "## Упражнение 5\n",
        "Создайте переменную myName и присвойте ей значение в виде своего имени."
      ]
    },
    {
      "cell_type": "code",
      "metadata": {
        "id": "P1wb8Pw-7LfF"
      },
      "source": [
        "\n"
      ],
      "execution_count": null,
      "outputs": []
    },
    {
      "cell_type": "markdown",
      "metadata": {
        "id": "cg20j3aI7LfI"
      },
      "source": [
        "## Упражнение 6\n",
        "Создайте переменную y и присвойте ей значение 1000."
      ]
    },
    {
      "cell_type": "code",
      "metadata": {
        "id": "CsAU0WW57LfJ"
      },
      "source": [],
      "execution_count": null,
      "outputs": []
    },
    {
      "cell_type": "markdown",
      "metadata": {
        "id": "S-gKZbiN7LfM"
      },
      "source": [
        "## Упражнение 7\n",
        "Используя переменные x и y, выведите сумму чисел 50 и 60."
      ]
    },
    {
      "cell_type": "code",
      "metadata": {
        "id": "WUTQl3ym7LfN"
      },
      "source": [],
      "execution_count": null,
      "outputs": []
    },
    {
      "cell_type": "markdown",
      "metadata": {
        "id": "_0U0sjgU7LfQ"
      },
      "source": [
        "## Упражнение 8\n",
        "Для нахождения суммы x и y создайте переменную z. Выведите результат сложения на экран."
      ]
    },
    {
      "cell_type": "code",
      "metadata": {
        "id": "MWho_XR57LfQ"
      },
      "source": [
        "x = 5\n",
        "y = 10\n"
      ],
      "execution_count": null,
      "outputs": []
    },
    {
      "cell_type": "markdown",
      "metadata": {
        "id": "FWZGtIqD7LfU"
      },
      "source": [
        "## Упражнение 9\n",
        "Уберите из имени переменной только те символы, которые нельзя использовать для создания переменных."
      ]
    },
    {
      "cell_type": "code",
      "metadata": {
        "id": "H2Xc2iCP7LfV"
      },
      "source": [
        "myfirst_name = \"Василий\""
      ],
      "execution_count": null,
      "outputs": []
    },
    {
      "cell_type": "markdown",
      "metadata": {
        "id": "tLzUAc-A7LfZ"
      },
      "source": [
        "## Упражнение 10\n",
        "Используя функцию len, выведите на экран значение длины строки"
      ]
    },
    {
      "cell_type": "code",
      "metadata": {
        "id": "XVA_8M-u7LfZ"
      },
      "source": [
        "x = \"Hello World\"\n"
      ],
      "execution_count": null,
      "outputs": []
    },
    {
      "cell_type": "markdown",
      "metadata": {
        "id": "3p44irK17Lfc"
      },
      "source": [
        "## Упражнение 11\n",
        "Присвойте переменной x значение первого символа строки txt."
      ]
    },
    {
      "cell_type": "code",
      "metadata": {
        "id": "sSVA-fDm7Lfd",
        "colab": {
          "base_uri": "https://localhost:8080/",
          "height": 35
        },
        "outputId": "58bfce61-290e-40df-976e-bc95b7bd5ee9"
      },
      "source": [
        "txt = \"Hello World\"\n"
      ],
      "execution_count": null,
      "outputs": [
        {
          "output_type": "execute_result",
          "data": {
            "text/plain": [
              "'H'"
            ]
          },
          "metadata": {
            "tags": []
          },
          "execution_count": 14
        }
      ]
    },
    {
      "cell_type": "markdown",
      "metadata": {
        "id": "9mS3NlQv7Lfg"
      },
      "source": [
        "## Упражнение 12\n",
        "Присвойте переменной x значение строки из символов со второй по пятый из строки txt."
      ]
    },
    {
      "cell_type": "code",
      "metadata": {
        "id": "lqRIzGya7Lfh"
      },
      "source": [
        "txt = \"Hello World\"\n",
        "\n"
      ],
      "execution_count": null,
      "outputs": []
    },
    {
      "cell_type": "markdown",
      "metadata": {
        "id": "IWJ_0KHP7Lfj"
      },
      "source": [
        "## Упражнение 13\n",
        "Присвойте переменной x значение строки txt, только без пробелов в начале и конце."
      ]
    },
    {
      "cell_type": "code",
      "metadata": {
        "id": "t9UOzn8r7Lfl"
      },
      "source": [
        "txt = \" Hello World \"\n"
      ],
      "execution_count": null,
      "outputs": []
    },
    {
      "cell_type": "markdown",
      "metadata": {
        "id": "m0ImUl5u7Lfo"
      },
      "source": [
        "## Упражнение 14\n",
        "Преобразуйте строку txt в строку, состаящую только из заглавных букв."
      ]
    },
    {
      "cell_type": "code",
      "metadata": {
        "id": "lrrJ2A7x7Lfq",
        "colab": {
          "base_uri": "https://localhost:8080/",
          "height": 35
        },
        "outputId": "e6300c4a-4dce-42f9-9ba9-c367625ea405"
      },
      "source": [
        "txt = \"Hello World\"\n"
      ],
      "execution_count": null,
      "outputs": [
        {
          "output_type": "execute_result",
          "data": {
            "text/plain": [
              "'HELLO WORLD'"
            ]
          },
          "metadata": {
            "tags": []
          },
          "execution_count": 28
        }
      ]
    },
    {
      "cell_type": "markdown",
      "metadata": {
        "id": "UUMNmbzn7Lft"
      },
      "source": [
        "## Упражнение 15\n",
        "Преобразуйте строку txt в строку, состоящую только из строчных букв."
      ]
    },
    {
      "cell_type": "code",
      "metadata": {
        "id": "7z3jcA_C7Lfu"
      },
      "source": [
        "txt = \"Hello World\"\n"
      ],
      "execution_count": null,
      "outputs": []
    },
    {
      "cell_type": "markdown",
      "metadata": {
        "id": "_voiDKh67Lfx"
      },
      "source": [
        "## Упражнение 16\n",
        "Замените в строке символ __H__ на символ **J**."
      ]
    },
    {
      "cell_type": "code",
      "metadata": {
        "collapsed": true,
        "id": "TqBqRdMO7Lfz",
        "colab": {
          "base_uri": "https://localhost:8080/",
          "height": 35
        },
        "outputId": "06d27226-f230-4040-cf14-fd50502f7b36"
      },
      "source": [
        "txt = \"Hello World Hi\"\n"
      ],
      "execution_count": null,
      "outputs": [
        {
          "output_type": "execute_result",
          "data": {
            "text/plain": [
              "'Jello World Ji'"
            ]
          },
          "metadata": {
            "tags": []
          },
          "execution_count": 6
        }
      ]
    },
    {
      "cell_type": "markdown",
      "metadata": {
        "id": "bWNGdx0O7Lf9"
      },
      "source": [
        "## Упражнение 17\n",
        "Перемножьте числа 110 и 53 и выведите результат."
      ]
    },
    {
      "cell_type": "code",
      "metadata": {
        "id": "R6o7P5nR7Lf-",
        "colab": {
          "base_uri": "https://localhost:8080/",
          "height": 35
        },
        "outputId": "0ae8e681-b5fd-40d0-cd3d-13f37dd70005"
      },
      "source": [],
      "execution_count": null,
      "outputs": [
        {
          "output_type": "stream",
          "text": [
            "5830\n"
          ],
          "name": "stdout"
        }
      ]
    },
    {
      "cell_type": "markdown",
      "metadata": {
        "id": "33k4U0Sw7LgF"
      },
      "source": [
        "## Упражнение 18\n",
        "Выведите на экран остаток от деления 57 и 13"
      ]
    },
    {
      "cell_type": "code",
      "metadata": {
        "id": "VCQkBot87LgG"
      },
      "source": [],
      "execution_count": null,
      "outputs": []
    },
    {
      "cell_type": "markdown",
      "metadata": {
        "id": "YJMV_FWu7LgK"
      },
      "source": [
        "## Упражнение 19\n",
        "Используйте правильный оператор принадлежности, чтобы проверить, является ли яблоко элементом списка фруктов."
      ]
    },
    {
      "cell_type": "code",
      "metadata": {
        "id": "6cFJ1Ia37LgL",
        "colab": {
          "base_uri": "https://localhost:8080/",
          "height": 35
        },
        "outputId": "221ca538-98b0-4741-b0bb-3917a0186880"
      },
      "source": [
        "fruits = [\"apple\", \"banana\"]\n",
        "\n",
        "  print(\"Yes, apple is a fruit!\")"
      ],
      "execution_count": null,
      "outputs": [
        {
          "output_type": "stream",
          "text": [
            "Yes, apple is a fruit!\n"
          ],
          "name": "stdout"
        }
      ]
    },
    {
      "cell_type": "markdown",
      "metadata": {
        "id": "_QW6F2W47LgN"
      },
      "source": [
        "## Упражнение 20\n",
        "Используйте оператор неравенства."
      ]
    },
    {
      "cell_type": "code",
      "metadata": {
        "id": "Hjj2Ysi67LgO",
        "colab": {
          "base_uri": "https://localhost:8080/",
          "height": 35
        },
        "outputId": "6701f1f2-d5b8-400f-bef2-c5578837ae9a"
      },
      "source": [
        "if 5 10:\n",
        "print(\"5 and 10 is not equal\")"
      ],
      "execution_count": null,
      "outputs": [
        {
          "output_type": "stream",
          "text": [
            "5 and 10 is not equal\n"
          ],
          "name": "stdout"
        }
      ]
    },
    {
      "cell_type": "markdown",
      "metadata": {
        "id": "7Hj-aozf7LgS"
      },
      "source": [
        "## Упражнение 21\n",
        "Используйте логический оператор, чтобы проверить наличие истинности хотя бы одного из двух условий."
      ]
    },
    {
      "cell_type": "code",
      "metadata": {
        "id": "la4hyil77LgT",
        "colab": {
          "base_uri": "https://localhost:8080/",
          "height": 35
        },
        "outputId": "bc8cb08c-1c4e-4095-c6f7-87aedfd38f07"
      },
      "source": [
        "if 5 == 10  4 == 4:\n",
        "print(\"Хотя бы одно из условий истинно\")"
      ],
      "execution_count": null,
      "outputs": [
        {
          "output_type": "stream",
          "text": [
            "Хотя бы одно из условий истинно\n"
          ],
          "name": "stdout"
        }
      ]
    },
    {
      "cell_type": "markdown",
      "metadata": {
        "id": "IHqxrVkd7LgW"
      },
      "source": [
        "## Упражнение 22\n",
        "Выведите на экран второй элемент списка."
      ]
    },
    {
      "cell_type": "code",
      "metadata": {
        "id": "rTd1s_xJ7LgY",
        "colab": {
          "base_uri": "https://localhost:8080/",
          "height": 35
        },
        "outputId": "31cd5305-95e6-4da5-cba7-043e3353b77e"
      },
      "source": [
        "fruits = [\"apple\", \"banana\", \"cherry\"]\n"
      ],
      "execution_count": null,
      "outputs": [
        {
          "output_type": "stream",
          "text": [
            "banana\n"
          ],
          "name": "stdout"
        }
      ]
    },
    {
      "cell_type": "markdown",
      "metadata": {
        "id": "yG5oMYSJ7Lgb"
      },
      "source": [
        "## Упражнение 23\n",
        "Замените в списке фруктов яблоко на киви."
      ]
    },
    {
      "cell_type": "code",
      "metadata": {
        "id": "hW_EJP847Lgd",
        "colab": {
          "base_uri": "https://localhost:8080/",
          "height": 35
        },
        "outputId": "df10608b-58b1-4018-f303-c1fefd3dbc74"
      },
      "source": [
        "fruits = [\"apple\", \"banana\", \"cherry\"]\n",
        "\n",
        "print(fruits)"
      ],
      "execution_count": null,
      "outputs": [
        {
          "output_type": "stream",
          "text": [
            "['kiwi', 'banana', 'cherry']\n"
          ],
          "name": "stdout"
        }
      ]
    },
    {
      "cell_type": "markdown",
      "metadata": {
        "id": "kPGBTUDt7Lgh"
      },
      "source": [
        "## Упражнение 24\n",
        "Добавьте апельсин в спискок фруктов."
      ]
    },
    {
      "cell_type": "code",
      "metadata": {
        "id": "Gz1azWiK7Lgi",
        "colab": {
          "base_uri": "https://localhost:8080/",
          "height": 35
        },
        "outputId": "d2843b34-760f-45e9-97df-d5a74d5b97bb"
      },
      "source": [
        "fruits = [\"apple\", \"banana\", \"cherry\"]\n",
        "\n",
        "print(fruits)"
      ],
      "execution_count": null,
      "outputs": [
        {
          "output_type": "stream",
          "text": [
            "['apple', 'banana', 'cherry', 'orange']\n"
          ],
          "name": "stdout"
        }
      ]
    },
    {
      "cell_type": "markdown",
      "metadata": {
        "id": "AtfaVvmX7Lgl"
      },
      "source": [
        "## Упражнение 25\n",
        "Вставьте лимон вторым элементом списка фруктов."
      ]
    },
    {
      "cell_type": "code",
      "metadata": {
        "id": "DXlcCRQO7Lgn",
        "colab": {
          "base_uri": "https://localhost:8080/",
          "height": 35
        },
        "outputId": "dd6b9015-a7f2-4e6b-e981-738beaa7ddc4"
      },
      "source": [
        "fruits = [\"apple\", \"banana\", \"cherry\"]\n",
        "\n",
        "print(fruits)"
      ],
      "execution_count": null,
      "outputs": [
        {
          "output_type": "stream",
          "text": [
            "['apple', 'lemon', 'banana', 'cherry']\n"
          ],
          "name": "stdout"
        }
      ]
    },
    {
      "cell_type": "markdown",
      "metadata": {
        "id": "tlE1-_nY7Lgr"
      },
      "source": [
        "## Упражнение 26\n",
        "Удалите банан из списка фруктов."
      ]
    },
    {
      "cell_type": "code",
      "metadata": {
        "id": "DD-PmuBV7Lgs",
        "colab": {
          "base_uri": "https://localhost:8080/",
          "height": 35
        },
        "outputId": "d20ee871-d80a-4735-d6fd-7cbcfa1bb31c"
      },
      "source": [
        "fruits = [\"apple\", \"banana\", \"cherry\"]\n",
        "\n",
        "print(fruits)"
      ],
      "execution_count": null,
      "outputs": [
        {
          "output_type": "stream",
          "text": [
            "['apple', 'cherry']\n"
          ],
          "name": "stdout"
        }
      ]
    },
    {
      "cell_type": "markdown",
      "metadata": {
        "id": "tq8C2TB47Lgw"
      },
      "source": [
        "## Упражнение 27\n",
        "Выведите первый элемент кортежа."
      ]
    },
    {
      "cell_type": "code",
      "metadata": {
        "id": "DoZESVbj7Lgx",
        "colab": {
          "base_uri": "https://localhost:8080/",
          "height": 35
        },
        "outputId": "f2b2a5c4-2998-473d-e866-d92d6dfb6aed"
      },
      "source": [
        "fruits = (\"apple\", \"banana\", \"cherry\")\n"
      ],
      "execution_count": null,
      "outputs": [
        {
          "output_type": "stream",
          "text": [
            "apple\n"
          ],
          "name": "stdout"
        }
      ]
    },
    {
      "cell_type": "markdown",
      "metadata": {
        "id": "zmLajqGZ7Lgz"
      },
      "source": [
        "## Упражнение 28\n",
        "Выведите на экран число элементов кортежа."
      ]
    },
    {
      "cell_type": "code",
      "metadata": {
        "id": "btVzQcnc7Lg0",
        "colab": {
          "base_uri": "https://localhost:8080/",
          "height": 35
        },
        "outputId": "5ca5cbe3-2f20-4378-ba04-88d54c07a197"
      },
      "source": [
        "fruits = (\"apple\", \"banana\", \"cherry\")\n"
      ],
      "execution_count": null,
      "outputs": [
        {
          "output_type": "stream",
          "text": [
            "3\n"
          ],
          "name": "stdout"
        }
      ]
    },
    {
      "cell_type": "markdown",
      "metadata": {
        "id": "dYxg722h7Lg4"
      },
      "source": [
        "## Упражнение 29\n",
        "Проверьте, является ли яблоко элементом множества фруктов."
      ]
    },
    {
      "cell_type": "code",
      "metadata": {
        "id": "pNZ9SG3i7Lg6",
        "colab": {
          "base_uri": "https://localhost:8080/",
          "height": 35
        },
        "outputId": "cc47e254-24d0-4018-da46-f22e76cd75b1"
      },
      "source": [
        "fruits = {\"apple\", \"banana\", \"cherry\"}\n",
        "\n",
        "print(\"Yes, apple is a fruit!\")"
      ],
      "execution_count": null,
      "outputs": [
        {
          "output_type": "stream",
          "text": [
            "Yes, apple is a fruit!\n"
          ],
          "name": "stdout"
        }
      ]
    },
    {
      "cell_type": "markdown",
      "metadata": {
        "id": "aVe7usKa7Lg9"
      },
      "source": [
        "## Упражнение 30\n",
        "Добавьте апельсин ко множеству фруктов."
      ]
    },
    {
      "cell_type": "code",
      "metadata": {
        "id": "8vbZWyL47Lg-",
        "colab": {
          "base_uri": "https://localhost:8080/",
          "height": 35
        },
        "outputId": "5be253fb-228f-4599-ea8c-b5dbd4487056"
      },
      "source": [
        "fruits = {\"apple\", \"banana\", \"cherry\"}\n"
      ],
      "execution_count": null,
      "outputs": [
        {
          "output_type": "stream",
          "text": [
            "{'apple', 'banana', 'cherry', 'orange'}\n"
          ],
          "name": "stdout"
        }
      ]
    },
    {
      "cell_type": "markdown",
      "metadata": {
        "id": "L2SpCCZQ7LhC"
      },
      "source": [
        "## Упражнение 31\n",
        "Используйте метод для добавления сразу нескольких элементов из списка ко множеству фруктов."
      ]
    },
    {
      "cell_type": "code",
      "metadata": {
        "id": "iT5SHMcs7LhD",
        "colab": {
          "base_uri": "https://localhost:8080/",
          "height": 35
        },
        "outputId": "9c7e9e35-3e37-4373-a4ea-84d36c3f0be6"
      },
      "source": [
        "fruits = {\"apple\", \"banana\", \"cherry\"}\n",
        "\n",
        "fruits"
      ],
      "execution_count": null,
      "outputs": [
        {
          "output_type": "execute_result",
          "data": {
            "text/plain": [
              "{'apple', 'banana', 'cherry', 'grapes', 'mango', 'orange'}"
            ]
          },
          "metadata": {
            "tags": []
          },
          "execution_count": 64
        }
      ]
    },
    {
      "cell_type": "markdown",
      "metadata": {
        "id": "cQRH9ELv7LhF"
      },
      "source": [
        "## Упражнение 32\n",
        "Уберите банан из множества фруктов."
      ]
    },
    {
      "cell_type": "code",
      "metadata": {
        "id": "hekYw4HN7LhF",
        "colab": {
          "base_uri": "https://localhost:8080/",
          "height": 35
        },
        "outputId": "d5ca7720-13e4-45f2-b9da-151fc6b8b760"
      },
      "source": [
        "fruits = {\"apple\", \"banana\", \"cherry\"}\n",
        "\n",
        "print(fruits)"
      ],
      "execution_count": null,
      "outputs": [
        {
          "output_type": "stream",
          "text": [
            "{'apple', 'cherry'}\n"
          ],
          "name": "stdout"
        }
      ]
    },
    {
      "cell_type": "markdown",
      "metadata": {
        "id": "KNx49S4a7LhJ"
      },
      "source": [
        "## Упражнение 33\n",
        "Уберите первый элемент из множества фруктов."
      ]
    },
    {
      "cell_type": "code",
      "metadata": {
        "id": "ycY9gdNT7LhM",
        "colab": {
          "base_uri": "https://localhost:8080/",
          "height": 35
        },
        "outputId": "7a169095-8599-46ce-ba0c-7d27d6c5bc4e"
      },
      "source": [
        "fruits = {\"apple\", \"banana\", \"cherry\"}\n",
        "\n",
        "print(fruits)"
      ],
      "execution_count": null,
      "outputs": [
        {
          "output_type": "stream",
          "text": [
            "{'banana', 'cherry'}\n"
          ],
          "name": "stdout"
        }
      ]
    },
    {
      "cell_type": "markdown",
      "metadata": {
        "id": "hd7nmsWq7LhS"
      },
      "source": [
        "## Упражнение 34\n",
        "Выведите на экран значение для ключа \"model\" словаря \"car\"."
      ]
    },
    {
      "cell_type": "code",
      "metadata": {
        "id": "fPNfsh9N7LhW",
        "colab": {
          "base_uri": "https://localhost:8080/",
          "height": 35
        },
        "outputId": "745e90f1-2270-4856-b300-f51d37eb6c8b"
      },
      "source": [
        "car = {\n",
        "  \"brand\": \"Ford\",\n",
        "  \"model\": \"Mustang\",\n",
        "  \"year\": 1964\n",
        "}\n"
      ],
      "execution_count": null,
      "outputs": [
        {
          "output_type": "stream",
          "text": [
            "Mustang\n"
          ],
          "name": "stdout"
        }
      ]
    },
    {
      "cell_type": "markdown",
      "metadata": {
        "id": "Gd5767SN7LhZ"
      },
      "source": [
        "## Упражнение 35\n",
        "Замените в словаре значение года на 2019."
      ]
    },
    {
      "cell_type": "code",
      "metadata": {
        "id": "Be-3dIsM7Lha"
      },
      "source": [
        "car = {\n",
        "  \"brand\": \"Ford\",\n",
        "  \"model\": \"Mustang\",\n",
        "  \"year\": 1964\n",
        "}\n"
      ],
      "execution_count": null,
      "outputs": []
    },
    {
      "cell_type": "markdown",
      "metadata": {
        "id": "Xfjz0s397Lhc"
      },
      "source": [
        "## Упражнение 36\n",
        "Добавьте элемент в словарь с ключом \"color\" и значчением \"red\"."
      ]
    },
    {
      "cell_type": "code",
      "metadata": {
        "id": "4_I0Q8op7Lhd",
        "colab": {
          "base_uri": "https://localhost:8080/",
          "height": 35
        },
        "outputId": "fb1aff3c-e94f-45fc-beb2-4ff7e659964d"
      },
      "source": [
        "car = {\n",
        "  \"brand\": \"Ford\",\n",
        "  \"model\": \"Mustang\",\n",
        "  \"year\": 1964\n",
        "}\n"
      ],
      "execution_count": null,
      "outputs": [
        {
          "output_type": "stream",
          "text": [
            "{'brand': 'Ford', 'model': 'Mustang', 'year': 1964, 'color': 'red'}\n"
          ],
          "name": "stdout"
        }
      ]
    },
    {
      "cell_type": "markdown",
      "metadata": {
        "id": "KA4bPYiD7Lhg"
      },
      "source": [
        "## Упражнение 37\n",
        "Удалите элемент модели из словаря."
      ]
    },
    {
      "cell_type": "code",
      "metadata": {
        "id": "RFW9bqrz7Lhg",
        "colab": {
          "base_uri": "https://localhost:8080/",
          "height": 35
        },
        "outputId": "44dac53a-a6d6-4e6b-ad95-56831cd0f5d8"
      },
      "source": [
        "car = {\n",
        "  \"brand\": \"Ford\",\n",
        "  \"model\": \"Mustang\",\n",
        "  \"year\": 1964\n",
        "}\n"
      ],
      "execution_count": null,
      "outputs": [
        {
          "output_type": "execute_result",
          "data": {
            "text/plain": [
              "{'brand': 'Ford', 'year': 1964}"
            ]
          },
          "metadata": {
            "tags": []
          },
          "execution_count": 86
        }
      ]
    },
    {
      "cell_type": "markdown",
      "metadata": {
        "id": "HhOgAN0l7Lhj"
      },
      "source": [
        "## Упражнение 38\n",
        "Очистите словарь."
      ]
    },
    {
      "cell_type": "code",
      "metadata": {
        "id": "jUxMKBOv7Lhk",
        "colab": {
          "base_uri": "https://localhost:8080/",
          "height": 35
        },
        "outputId": "0097cdeb-66b1-48c7-cd3f-171ed95559a0"
      },
      "source": [
        "car = {\n",
        "  \"brand\": \"Ford\",\n",
        "  \"model\": \"Mustang\",\n",
        "  \"year\": 1964\n",
        "}\n"
      ],
      "execution_count": null,
      "outputs": [
        {
          "output_type": "execute_result",
          "data": {
            "text/plain": [
              "{}"
            ]
          },
          "metadata": {
            "tags": []
          },
          "execution_count": 88
        }
      ]
    },
    {
      "cell_type": "markdown",
      "metadata": {
        "id": "QcX7NnDh7Lho"
      },
      "source": [
        "## Упражнение 39\n",
        "Дополните текст программы таким образом, чтобы в случае если a больше чем b, выводилось сообщение."
      ]
    },
    {
      "cell_type": "code",
      "metadata": {
        "id": "XO9CN5gC7Lhp",
        "colab": {
          "base_uri": "https://localhost:8080/",
          "height": 35
        },
        "outputId": "4a94d927-a857-4d40-fdfb-c1a124ca9054"
      },
      "source": [
        "a = 50\n",
        "b = 10\n",
        "\n",
        "print(\"Hello World\")"
      ],
      "execution_count": null,
      "outputs": [
        {
          "output_type": "stream",
          "text": [
            "Hello World\n"
          ],
          "name": "stdout"
        }
      ]
    },
    {
      "cell_type": "markdown",
      "metadata": {
        "id": "i1RqOKMA7Lhs"
      },
      "source": [
        "## Упражнение 40\n",
        "Если a не равно b, пусть выводится сообщение."
      ]
    },
    {
      "cell_type": "code",
      "metadata": {
        "id": "7KXCYUKV7Lht",
        "colab": {
          "base_uri": "https://localhost:8080/",
          "height": 35
        },
        "outputId": "4da2efae-8345-4c00-abe7-ee22fe46e9ef"
      },
      "source": [
        "a = 50\n",
        "b = 10\n",
        "\n",
        "print(\"Hello World\")"
      ],
      "execution_count": null,
      "outputs": [
        {
          "output_type": "stream",
          "text": [
            "Hello World\n"
          ],
          "name": "stdout"
        }
      ]
    },
    {
      "cell_type": "markdown",
      "metadata": {
        "id": "d5CBXljS7Lhw"
      },
      "source": [
        "## Упражнение 41\n",
        "Пусть программа выводит ответ \"Да\", если a равно b, и \"Нет\" в противном случае."
      ]
    },
    {
      "cell_type": "code",
      "metadata": {
        "id": "pq_669lJ7Lhx",
        "colab": {
          "base_uri": "https://localhost:8080/",
          "height": 35
        },
        "outputId": "f16896c3-6f8d-4730-e035-0647e7774ee6"
      },
      "source": [
        "a = 50\n",
        "b = 10\n",
        "\n"
      ],
      "execution_count": null,
      "outputs": [
        {
          "output_type": "stream",
          "text": [
            "Yes\n"
          ],
          "name": "stdout"
        }
      ]
    },
    {
      "cell_type": "markdown",
      "metadata": {
        "id": "xswwchc67Lhz"
      },
      "source": [
        "## Упражнение 42\n",
        "Если a равно b,  пусть выводится единица, двойка, если a больше b, в противном случае выводится тройка."
      ]
    },
    {
      "cell_type": "code",
      "metadata": {
        "id": "GG6ztMiU7Lh0",
        "colab": {
          "base_uri": "https://localhost:8080/",
          "height": 35
        },
        "outputId": "2ae75505-8080-4d24-c330-787a580e234d"
      },
      "source": [
        "a = 50\n",
        "b = 10\n"
      ],
      "execution_count": null,
      "outputs": [
        {
          "output_type": "stream",
          "text": [
            "2\n"
          ],
          "name": "stdout"
        }
      ]
    },
    {
      "cell_type": "markdown",
      "metadata": {
        "id": "a_DNNDP17Lh5"
      },
      "source": [
        "## Упражнение 43\n",
        "Пусть программа выводит сообщение, если a равно b и c равно d."
      ]
    },
    {
      "cell_type": "code",
      "metadata": {
        "id": "L0-v8kt27Lh7",
        "colab": {
          "base_uri": "https://localhost:8080/",
          "height": 35
        },
        "outputId": "09485f3a-52ef-4baa-9437-e4676e6efe03"
      },
      "source": [
        "a=20\n",
        "b=20\n",
        "c=35\n",
        "d=35\n"
      ],
      "execution_count": null,
      "outputs": [
        {
          "output_type": "stream",
          "text": [
            "Hello\n"
          ],
          "name": "stdout"
        }
      ]
    },
    {
      "cell_type": "markdown",
      "metadata": {
        "id": "go_Smjiq7Lh-"
      },
      "source": [
        "## Упражнение 44\n",
        "Пусть сообщение выводится в случае истинности хотя бы одного из условий."
      ]
    },
    {
      "cell_type": "code",
      "metadata": {
        "id": "YuPh6Naf7LiA",
        "colab": {
          "base_uri": "https://localhost:8080/",
          "height": 35
        },
        "outputId": "268a8e04-e0c4-42d5-a7bc-f5511e02f9f0"
      },
      "source": [
        "a = 10\n",
        "b = 10\n",
        "c = 15\n",
        "d = 22\n"
      ],
      "execution_count": null,
      "outputs": [
        {
          "output_type": "stream",
          "text": [
            "Hello\n"
          ],
          "name": "stdout"
        }
      ]
    },
    {
      "cell_type": "code",
      "metadata": {
        "id": "0o5pUYgaeKCL"
      },
      "source": [],
      "execution_count": null,
      "outputs": []
    },
    {
      "cell_type": "markdown",
      "metadata": {
        "id": "UX5y5r8R7LiF"
      },
      "source": [
        "## Упражнение 45\n",
        "Пусть программа выводит i пока i меньше 6."
      ]
    },
    {
      "cell_type": "code",
      "metadata": {
        "id": "U3O4EG3v7LiG",
        "colab": {
          "base_uri": "https://localhost:8080/",
          "height": 104
        },
        "outputId": "71aaa319-b1a9-495f-d735-d90e4f717a9b"
      },
      "source": [
        "i = 1\n",
        "\n",
        "i += 1"
      ],
      "execution_count": null,
      "outputs": [
        {
          "output_type": "stream",
          "text": [
            "1\n",
            "2\n",
            "3\n",
            "4\n",
            "5\n"
          ],
          "name": "stdout"
        }
      ]
    },
    {
      "cell_type": "markdown",
      "metadata": {
        "id": "dCOPxmVC7LiK"
      },
      "source": [
        "## Упражнение 46\n",
        "Остановите выполнение цикла, если i равно трем."
      ]
    },
    {
      "cell_type": "code",
      "metadata": {
        "id": "tUS3bhEx7LiM"
      },
      "source": [
        "i = 1\n",
        "while i < 6:\n",
        "  if i == 3:\n",
        "\n",
        "\n",
        "  i += 1"
      ],
      "execution_count": null,
      "outputs": []
    },
    {
      "cell_type": "markdown",
      "metadata": {
        "id": "ijxxQBHy7LiO"
      },
      "source": [
        "## Упражнение 47\n",
        "Выполните цикл по элементам списка фруктов."
      ]
    },
    {
      "cell_type": "code",
      "metadata": {
        "id": "WCk7NuZb7LiP",
        "colab": {
          "base_uri": "https://localhost:8080/",
          "height": 69
        },
        "outputId": "f12117f1-ecde-4c1b-9896-7bae22569f4a"
      },
      "source": [
        "fruits = [\"apple\", \"banana\", \"cherry\"]\n"
      ],
      "execution_count": null,
      "outputs": [
        {
          "output_type": "stream",
          "text": [
            "apple\n",
            "banana\n",
            "cherry\n"
          ],
          "name": "stdout"
        }
      ]
    },
    {
      "cell_type": "markdown",
      "metadata": {
        "id": "5JfgfAnl7LiU"
      },
      "source": [
        "## Упражнение 48\n",
        "Вывести на экран все элементы списка, кроме банана."
      ]
    },
    {
      "cell_type": "code",
      "metadata": {
        "id": "kgGxfSZe7LiV",
        "colab": {
          "base_uri": "https://localhost:8080/",
          "height": 52
        },
        "outputId": "0b3fefc3-29eb-4ca1-8074-98903fe5f778"
      },
      "source": [
        "fruits = [\"apple\", \"banana\", \"cherry\"]\n",
        "for x in fruits:\n",
        ""
      ],
      "execution_count": null,
      "outputs": [
        {
          "output_type": "stream",
          "text": [
            "apple\n",
            "cherry\n"
          ],
          "name": "stdout"
        }
      ]
    },
    {
      "cell_type": "markdown",
      "metadata": {
        "id": "oCwSb8dB7LiW"
      },
      "source": [
        "## Упражнение 49\n",
        "С помощью функции range выполните цикл 6 раз."
      ]
    },
    {
      "cell_type": "code",
      "metadata": {
        "id": "LIDmpH2U7LiX",
        "colab": {
          "base_uri": "https://localhost:8080/",
          "height": 121
        },
        "outputId": "7d3446fd-f6f0-4aaf-d7c1-8e69a72e65d9"
      },
      "source": [],
      "execution_count": null,
      "outputs": [
        {
          "output_type": "stream",
          "text": [
            "0\n",
            "1\n",
            "2\n",
            "3\n",
            "4\n",
            "5\n"
          ],
          "name": "stdout"
        }
      ]
    },
    {
      "cell_type": "markdown",
      "metadata": {
        "id": "3IpN6Pgz7Lia"
      },
      "source": [
        "## Упражнение 50\n",
        "Создайте свою функцию."
      ]
    },
    {
      "cell_type": "code",
      "metadata": {
        "id": "JZ2oipku7Lib"
      },
      "source": [],
      "execution_count": null,
      "outputs": []
    },
    {
      "cell_type": "markdown",
      "metadata": {
        "id": "RxUv9-Ci7Lig"
      },
      "source": [
        "## Упражнение 51\n",
        "Запустите функцию, созданную в предыдущем упражнении."
      ]
    },
    {
      "cell_type": "code",
      "metadata": {
        "id": "snhlT4WJ7Lih",
        "colab": {
          "base_uri": "https://localhost:8080/",
          "height": 35
        },
        "outputId": "2fda676e-2f45-46d6-f5a4-48ae41046a55"
      },
      "source": [],
      "execution_count": null,
      "outputs": [
        {
          "output_type": "stream",
          "text": [
            "Hello from a function\n"
          ],
          "name": "stdout"
        }
      ]
    },
    {
      "cell_type": "markdown",
      "metadata": {
        "id": "9rmXqOKZ7Lik"
      },
      "source": [
        "## Упражнение 52\n",
        "Для функции с двумя параметрами сделайте, чтобы она выводила второ параметр на экран."
      ]
    },
    {
      "cell_type": "code",
      "metadata": {
        "id": "h-cIZ8hY7Lir"
      },
      "source": [],
      "execution_count": null,
      "outputs": []
    },
    {
      "cell_type": "markdown",
      "metadata": {
        "id": "CmltJ50e7Li0"
      },
      "source": [
        "## Упражнение 53\n",
        "Сделайте функцию, которая возводит число в степень, также равную этому числу."
      ]
    },
    {
      "cell_type": "code",
      "metadata": {
        "id": "P9UulmDU7Li2"
      },
      "source": [
        "def my_function(x):\n",
        "\n",
        "\n",
        "\n",
        "\n"
      ],
      "execution_count": null,
      "outputs": []
    },
    {
      "cell_type": "markdown",
      "metadata": {
        "id": "nw4m62lJ7Li5"
      },
      "source": [
        "## Упражнение 54\n",
        "Создайте анонимную функцию, которая получает один параметр и выводит его на экран."
      ]
    },
    {
      "cell_type": "code",
      "metadata": {
        "id": "2AaF8aIC7Li5",
        "colab": {
          "base_uri": "https://localhost:8080/",
          "height": 35
        },
        "outputId": "3515fd9b-95ca-4cac-c172-3b3dc0284db0"
      },
      "source": [
        "\n"
      ],
      "execution_count": null,
      "outputs": [
        {
          "output_type": "stream",
          "text": [
            "5\n"
          ],
          "name": "stdout"
        }
      ]
    }
  ]
}